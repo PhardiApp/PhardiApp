{
 "cells": [
  {
   "cell_type": "code",
   "execution_count": 3,
   "id": "fdfbf7e6",
   "metadata": {},
   "outputs": [],
   "source": [
    "import tensorflow as tf\n",
    "from tensorflow.keras import datasets, layers, models\n",
    "import matplotlib.pyplot as plt"
   ]
  },
  {
   "cell_type": "markdown",
   "id": "c2b5e382",
   "metadata": {},
   "source": [
    "### Load Data"
   ]
  },
  {
   "cell_type": "code",
   "execution_count": 15,
   "id": "dd8da8cc",
   "metadata": {},
   "outputs": [],
   "source": [
    "(train_images, train_labels), (test_images, test_labels) = datasets.cifar10.load_data()\n",
    "\n",
    "# feature normalize each image\n",
    "train_images, test_images = train_images / 255.0, test_images / 255.0\n",
    "\n",
    "class_names = [\n",
    "    'airplane', 'automobile', 'bird', 'cat', 'deer', 'dog', 'frog', 'horse',\n",
    "    'ship', 'truck'\n",
    "]"
   ]
  },
  {
   "cell_type": "code",
   "execution_count": null,
   "id": "f6efe7d7",
   "metadata": {},
   "outputs": [],
   "source": [
    "plt.figure(figsize=(10, 10))\n",
    "for i in range(25):\n",
    "    plt.subplot(5, 5, 1+i)\n",
    "    plt.xticks([])\n",
    "    plt.yticks([])\n",
    "    plt.grid(False)\n",
    "    plt.imshow(train_images[i])\n",
    "    # CIFAR dataset label is designed as an array (access image using [0])\n",
    "    plt.xlabel(class_names[train_labels[i][0]])\n",
    "plt.show()"
   ]
  },
  {
   "cell_type": "markdown",
   "id": "c1bff39e",
   "metadata": {},
   "source": [
    "### Create the Model\n",
    "3 CNN Layers -> 1 Hidden Layer (64) -> Output Layer (10)"
   ]
  },
  {
   "cell_type": "code",
   "execution_count": 17,
   "id": "9c61255c",
   "metadata": {},
   "outputs": [],
   "source": [
    "model = models.Sequential()\n",
    "# CNN layers\n",
    "model.add(layers.Conv2D(32, (3, 3), activation=\"relu\", input_shape=(32, 32, 3)))\n",
    "model.add(layers.MaxPooling2D((2, 2)))\n",
    "model.add(layers.Conv2D(64, (3, 3), activation='relu'))\n",
    "model.add(layers.MaxPooling2D((2, 2)))\n",
    "model.add(layers.Conv2D(64, (3, 3), activation='relu'))\n",
    "# Fully Connected NN layers\n",
    "model.add(layers.Flatten()) # input layer\n",
    "model.add(layers.Dense(64, activation=\"relu\")) # 1 hidden layer\n",
    "model.add(layers.Dense(len(class_names))) # output layer which consists of 10 neurons"
   ]
  },
  {
   "cell_type": "markdown",
   "id": "d8a1fcc8",
   "metadata": {},
   "source": [
    "### Compile + Train the Model"
   ]
  },
  {
   "cell_type": "code",
   "execution_count": 18,
   "id": "260d5396",
   "metadata": {},
   "outputs": [
    {
     "name": "stdout",
     "output_type": "stream",
     "text": [
      "Epoch 1/10\n",
      "1563/1563 [==============================] - 34s 21ms/step - loss: 1.5372 - accuracy: 0.4371 - val_loss: 1.3254 - val_accuracy: 0.5259\n",
      "Epoch 2/10\n",
      "1563/1563 [==============================] - 35s 22ms/step - loss: 1.1743 - accuracy: 0.5845 - val_loss: 1.0661 - val_accuracy: 0.6253\n",
      "Epoch 3/10\n",
      "1563/1563 [==============================] - 33s 21ms/step - loss: 1.0209 - accuracy: 0.6408 - val_loss: 0.9807 - val_accuracy: 0.6602\n",
      "Epoch 4/10\n",
      "1563/1563 [==============================] - 31s 20ms/step - loss: 0.9253 - accuracy: 0.6762 - val_loss: 0.9595 - val_accuracy: 0.6662\n",
      "Epoch 5/10\n",
      "1563/1563 [==============================] - 28s 18ms/step - loss: 0.8489 - accuracy: 0.7028 - val_loss: 0.8956 - val_accuracy: 0.6860\n",
      "Epoch 6/10\n",
      "1563/1563 [==============================] - 30s 19ms/step - loss: 0.7940 - accuracy: 0.7220 - val_loss: 0.8683 - val_accuracy: 0.7019\n",
      "Epoch 7/10\n",
      "1563/1563 [==============================] - 30s 19ms/step - loss: 0.7473 - accuracy: 0.7381 - val_loss: 0.9198 - val_accuracy: 0.6934\n",
      "Epoch 8/10\n",
      "1563/1563 [==============================] - 29s 19ms/step - loss: 0.6994 - accuracy: 0.7542 - val_loss: 0.9008 - val_accuracy: 0.7011\n",
      "Epoch 9/10\n",
      "1563/1563 [==============================] - 34s 22ms/step - loss: 0.6657 - accuracy: 0.7669 - val_loss: 0.8766 - val_accuracy: 0.7054\n",
      "Epoch 10/10\n",
      "1563/1563 [==============================] - 33s 21ms/step - loss: 0.6260 - accuracy: 0.7798 - val_loss: 0.8979 - val_accuracy: 0.7011\n"
     ]
    }
   ],
   "source": [
    "model.compile(optimizer=\"adam\", loss=tf.keras.losses.SparseCategoricalCrossentropy(from_logits=True), metrics=[\"accuracy\"])\n",
    "\n",
    "cost_history = model.fit(train_images, train_labels, epochs=10, validation_data=(test_images, test_labels))"
   ]
  },
  {
   "cell_type": "code",
   "execution_count": 20,
   "id": "38d76dd1",
   "metadata": {},
   "outputs": [
    {
     "name": "stdout",
     "output_type": "stream",
     "text": [
      "313/313 - 2s - loss: 0.8979 - accuracy: 0.7011 - 2s/epoch - 5ms/step\n"
     ]
    },
    {
     "data": {
      "image/png": "[encoded data removed]",
      "text/plain": [
       "<Figure size 640x480 with 1 Axes>"
      ]
     },
     "metadata": {},
     "output_type": "display_data"
    }
   ],
   "source": [
    "plt.plot(cost_history.history['accuracy'], label='accuracy')\n",
    "plt.plot(cost_history.history['val_accuracy'], label='val_accuracy')\n",
    "plt.xlabel('Epoch')\n",
    "plt.ylabel('Accuracy')\n",
    "plt.ylim([0.5, 1])\n",
    "plt.legend(loc='lower right')\n",
    "\n",
    "test_loss, test_acc = model.evaluate(test_images, test_labels, verbose=2)\n"
   ]
  },
  {
   "cell_type": "markdown",
   "id": "76b3ccc0",
   "metadata": {},
   "source": [
    "### Save the trained model\n"
   ]
  },
  {
   "cell_type": "code",
   "execution_count": 21,
   "id": "08032abe",
   "metadata": {},
   "outputs": [
    {
     "name": "stderr",
     "output_type": "stream",
     "text": [
      "WARNING:absl:Found untraced functions such as _jit_compiled_convolution_op, _jit_compiled_convolution_op, _jit_compiled_convolution_op while saving (showing 3 of 3). These functions will not be directly callable after loading.\n"
     ]
    },
    {
     "name": "stdout",
     "output_type": "stream",
     "text": [
      "INFO:tensorflow:Assets written to: ../models/cifar10/assets\n"
     ]
    },
    {
     "name": "stderr",
     "output_type": "stream",
     "text": [
      "INFO:tensorflow:Assets written to: ../models/cifar10/assets\n"
     ]
    }
   ],
   "source": [
    "model_output_path = \"../models/cifar10/\"\n",
    "model.save(model_output_path)"
   ]
  }
 ],
 "metadata": {
  "kernelspec": {
   "display_name": "Python 3.7.4 ('venv': venv)",
   "language": "python",
   "name": "python3"
  },
  "language_info": {
   "codemirror_mode": {
    "name": "ipython",
    "version": 3
   },
   "file_extension": ".py",
   "mimetype": "text/x-python",
   "name": "python",
   "nbconvert_exporter": "python",
   "pygments_lexer": "ipython3",
   "version": "3.7.4 (v3.7.4:e09359112e, Jul  8 2019, 14:54:52) \n[Clang 6.0 (clang-600.0.57)]"
  },
  "vscode": {
   "interpreter": {
    "hash": "da15315eccf8de48b6097a2407189c84c24e90e531e02ee91002f4ec564cc2d1"
   }
  }
 },
 "nbformat": 4,
 "nbformat_minor": 5
}
